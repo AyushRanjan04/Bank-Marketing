{
 "cells": [
  {
   "cell_type": "markdown",
   "id": "2ea5b3fc-38ab-4ff0-9d1f-debf0b5f0d59",
   "metadata": {},
   "source": [
    "## Import Important Libraries"
   ]
  },
  {
   "cell_type": "code",
   "execution_count": 394,
   "id": "61456fb4-69a7-4b15-94db-7ce4bbd67985",
   "metadata": {},
   "outputs": [],
   "source": [
    "#Import Important Libraries\n",
    "import pandas as pd\n",
    "import numpy as np\n",
    "import matplotlib.pyplot as plt\n",
    "import seaborn as sns\n",
    "import warnings"
   ]
  },
  {
   "cell_type": "markdown",
   "id": "2b0a1998-2c7a-49e1-bb83-f52de7c3f52b",
   "metadata": {},
   "source": [
    "# Read Csv file"
   ]
  },
  {
   "cell_type": "code",
   "execution_count": 395,
   "id": "b155cd59-85f8-4f63-907e-00a8eb7f4778",
   "metadata": {},
   "outputs": [],
   "source": [
    "# Uploading Dataset\n",
    "bank_org_df = pd.read_csv('bank.csv')"
   ]
  },
  {
   "cell_type": "markdown",
   "id": "35f84bc1-e0ef-4547-a8f2-ed1465ceaa58",
   "metadata": {},
   "source": [
    "## DataFrame "
   ]
  },
  {
   "cell_type": "code",
   "execution_count": 7,
   "id": "30e61d1c-2687-4fdc-a64f-34c93422ae87",
   "metadata": {},
   "outputs": [
    {
     "data": {
      "text/html": [
       "<div>\n",
       "<style scoped>\n",
       "    .dataframe tbody tr th:only-of-type {\n",
       "        vertical-align: middle;\n",
       "    }\n",
       "\n",
       "    .dataframe tbody tr th {\n",
       "        vertical-align: top;\n",
       "    }\n",
       "\n",
       "    .dataframe thead th {\n",
       "        text-align: right;\n",
       "    }\n",
       "</style>\n",
       "<table border=\"1\" class=\"dataframe\">\n",
       "  <thead>\n",
       "    <tr style=\"text-align: right;\">\n",
       "      <th></th>\n",
       "      <th>age</th>\n",
       "      <th>job</th>\n",
       "      <th>marital</th>\n",
       "      <th>education</th>\n",
       "      <th>default</th>\n",
       "      <th>balance</th>\n",
       "      <th>housing</th>\n",
       "      <th>loan</th>\n",
       "      <th>contact</th>\n",
       "      <th>day</th>\n",
       "      <th>month</th>\n",
       "      <th>duration</th>\n",
       "      <th>campaign</th>\n",
       "      <th>pdays</th>\n",
       "      <th>previous</th>\n",
       "      <th>poutcome</th>\n",
       "      <th>deposit</th>\n",
       "    </tr>\n",
       "  </thead>\n",
       "  <tbody>\n",
       "    <tr>\n",
       "      <th>0</th>\n",
       "      <td>59</td>\n",
       "      <td>admin.</td>\n",
       "      <td>married</td>\n",
       "      <td>secondary</td>\n",
       "      <td>no</td>\n",
       "      <td>2343</td>\n",
       "      <td>yes</td>\n",
       "      <td>no</td>\n",
       "      <td>unknown</td>\n",
       "      <td>5</td>\n",
       "      <td>may</td>\n",
       "      <td>1042</td>\n",
       "      <td>1</td>\n",
       "      <td>-1</td>\n",
       "      <td>0</td>\n",
       "      <td>unknown</td>\n",
       "      <td>yes</td>\n",
       "    </tr>\n",
       "    <tr>\n",
       "      <th>1</th>\n",
       "      <td>56</td>\n",
       "      <td>admin.</td>\n",
       "      <td>married</td>\n",
       "      <td>secondary</td>\n",
       "      <td>no</td>\n",
       "      <td>45</td>\n",
       "      <td>no</td>\n",
       "      <td>no</td>\n",
       "      <td>unknown</td>\n",
       "      <td>5</td>\n",
       "      <td>may</td>\n",
       "      <td>1467</td>\n",
       "      <td>1</td>\n",
       "      <td>-1</td>\n",
       "      <td>0</td>\n",
       "      <td>unknown</td>\n",
       "      <td>yes</td>\n",
       "    </tr>\n",
       "    <tr>\n",
       "      <th>2</th>\n",
       "      <td>41</td>\n",
       "      <td>technician</td>\n",
       "      <td>married</td>\n",
       "      <td>secondary</td>\n",
       "      <td>no</td>\n",
       "      <td>1270</td>\n",
       "      <td>yes</td>\n",
       "      <td>no</td>\n",
       "      <td>unknown</td>\n",
       "      <td>5</td>\n",
       "      <td>may</td>\n",
       "      <td>1389</td>\n",
       "      <td>1</td>\n",
       "      <td>-1</td>\n",
       "      <td>0</td>\n",
       "      <td>unknown</td>\n",
       "      <td>yes</td>\n",
       "    </tr>\n",
       "    <tr>\n",
       "      <th>3</th>\n",
       "      <td>55</td>\n",
       "      <td>services</td>\n",
       "      <td>married</td>\n",
       "      <td>secondary</td>\n",
       "      <td>no</td>\n",
       "      <td>2476</td>\n",
       "      <td>yes</td>\n",
       "      <td>no</td>\n",
       "      <td>unknown</td>\n",
       "      <td>5</td>\n",
       "      <td>may</td>\n",
       "      <td>579</td>\n",
       "      <td>1</td>\n",
       "      <td>-1</td>\n",
       "      <td>0</td>\n",
       "      <td>unknown</td>\n",
       "      <td>yes</td>\n",
       "    </tr>\n",
       "    <tr>\n",
       "      <th>4</th>\n",
       "      <td>54</td>\n",
       "      <td>admin.</td>\n",
       "      <td>married</td>\n",
       "      <td>tertiary</td>\n",
       "      <td>no</td>\n",
       "      <td>184</td>\n",
       "      <td>no</td>\n",
       "      <td>no</td>\n",
       "      <td>unknown</td>\n",
       "      <td>5</td>\n",
       "      <td>may</td>\n",
       "      <td>673</td>\n",
       "      <td>2</td>\n",
       "      <td>-1</td>\n",
       "      <td>0</td>\n",
       "      <td>unknown</td>\n",
       "      <td>yes</td>\n",
       "    </tr>\n",
       "  </tbody>\n",
       "</table>\n",
       "</div>"
      ],
      "text/plain": [
       "   age         job  marital  education default  balance housing loan  contact  \\\n",
       "0   59      admin.  married  secondary      no     2343     yes   no  unknown   \n",
       "1   56      admin.  married  secondary      no       45      no   no  unknown   \n",
       "2   41  technician  married  secondary      no     1270     yes   no  unknown   \n",
       "3   55    services  married  secondary      no     2476     yes   no  unknown   \n",
       "4   54      admin.  married   tertiary      no      184      no   no  unknown   \n",
       "\n",
       "   day month  duration  campaign  pdays  previous poutcome deposit  \n",
       "0    5   may      1042         1     -1         0  unknown     yes  \n",
       "1    5   may      1467         1     -1         0  unknown     yes  \n",
       "2    5   may      1389         1     -1         0  unknown     yes  \n",
       "3    5   may       579         1     -1         0  unknown     yes  \n",
       "4    5   may       673         2     -1         0  unknown     yes  "
      ]
     },
     "execution_count": 7,
     "metadata": {},
     "output_type": "execute_result"
    }
   ],
   "source": [
    "# First Five data from bank dataset\n",
    "bank_org_df.head()"
   ]
  },
  {
   "cell_type": "code",
   "execution_count": 8,
   "id": "5361168f-73c2-466e-91f9-3c0905920e4f",
   "metadata": {},
   "outputs": [
    {
     "data": {
      "text/html": [
       "<div>\n",
       "<style scoped>\n",
       "    .dataframe tbody tr th:only-of-type {\n",
       "        vertical-align: middle;\n",
       "    }\n",
       "\n",
       "    .dataframe tbody tr th {\n",
       "        vertical-align: top;\n",
       "    }\n",
       "\n",
       "    .dataframe thead th {\n",
       "        text-align: right;\n",
       "    }\n",
       "</style>\n",
       "<table border=\"1\" class=\"dataframe\">\n",
       "  <thead>\n",
       "    <tr style=\"text-align: right;\">\n",
       "      <th></th>\n",
       "      <th>age</th>\n",
       "      <th>job</th>\n",
       "      <th>marital</th>\n",
       "      <th>education</th>\n",
       "      <th>default</th>\n",
       "      <th>balance</th>\n",
       "      <th>housing</th>\n",
       "      <th>loan</th>\n",
       "      <th>contact</th>\n",
       "      <th>day</th>\n",
       "      <th>month</th>\n",
       "      <th>duration</th>\n",
       "      <th>campaign</th>\n",
       "      <th>pdays</th>\n",
       "      <th>previous</th>\n",
       "      <th>poutcome</th>\n",
       "      <th>deposit</th>\n",
       "    </tr>\n",
       "  </thead>\n",
       "  <tbody>\n",
       "    <tr>\n",
       "      <th>11157</th>\n",
       "      <td>33</td>\n",
       "      <td>blue-collar</td>\n",
       "      <td>single</td>\n",
       "      <td>primary</td>\n",
       "      <td>no</td>\n",
       "      <td>1</td>\n",
       "      <td>yes</td>\n",
       "      <td>no</td>\n",
       "      <td>cellular</td>\n",
       "      <td>20</td>\n",
       "      <td>apr</td>\n",
       "      <td>257</td>\n",
       "      <td>1</td>\n",
       "      <td>-1</td>\n",
       "      <td>0</td>\n",
       "      <td>unknown</td>\n",
       "      <td>no</td>\n",
       "    </tr>\n",
       "    <tr>\n",
       "      <th>11158</th>\n",
       "      <td>39</td>\n",
       "      <td>services</td>\n",
       "      <td>married</td>\n",
       "      <td>secondary</td>\n",
       "      <td>no</td>\n",
       "      <td>733</td>\n",
       "      <td>no</td>\n",
       "      <td>no</td>\n",
       "      <td>unknown</td>\n",
       "      <td>16</td>\n",
       "      <td>jun</td>\n",
       "      <td>83</td>\n",
       "      <td>4</td>\n",
       "      <td>-1</td>\n",
       "      <td>0</td>\n",
       "      <td>unknown</td>\n",
       "      <td>no</td>\n",
       "    </tr>\n",
       "    <tr>\n",
       "      <th>11159</th>\n",
       "      <td>32</td>\n",
       "      <td>technician</td>\n",
       "      <td>single</td>\n",
       "      <td>secondary</td>\n",
       "      <td>no</td>\n",
       "      <td>29</td>\n",
       "      <td>no</td>\n",
       "      <td>no</td>\n",
       "      <td>cellular</td>\n",
       "      <td>19</td>\n",
       "      <td>aug</td>\n",
       "      <td>156</td>\n",
       "      <td>2</td>\n",
       "      <td>-1</td>\n",
       "      <td>0</td>\n",
       "      <td>unknown</td>\n",
       "      <td>no</td>\n",
       "    </tr>\n",
       "    <tr>\n",
       "      <th>11160</th>\n",
       "      <td>43</td>\n",
       "      <td>technician</td>\n",
       "      <td>married</td>\n",
       "      <td>secondary</td>\n",
       "      <td>no</td>\n",
       "      <td>0</td>\n",
       "      <td>no</td>\n",
       "      <td>yes</td>\n",
       "      <td>cellular</td>\n",
       "      <td>8</td>\n",
       "      <td>may</td>\n",
       "      <td>9</td>\n",
       "      <td>2</td>\n",
       "      <td>172</td>\n",
       "      <td>5</td>\n",
       "      <td>failure</td>\n",
       "      <td>no</td>\n",
       "    </tr>\n",
       "    <tr>\n",
       "      <th>11161</th>\n",
       "      <td>34</td>\n",
       "      <td>technician</td>\n",
       "      <td>married</td>\n",
       "      <td>secondary</td>\n",
       "      <td>no</td>\n",
       "      <td>0</td>\n",
       "      <td>no</td>\n",
       "      <td>no</td>\n",
       "      <td>cellular</td>\n",
       "      <td>9</td>\n",
       "      <td>jul</td>\n",
       "      <td>628</td>\n",
       "      <td>1</td>\n",
       "      <td>-1</td>\n",
       "      <td>0</td>\n",
       "      <td>unknown</td>\n",
       "      <td>no</td>\n",
       "    </tr>\n",
       "  </tbody>\n",
       "</table>\n",
       "</div>"
      ],
      "text/plain": [
       "       age          job  marital  education default  balance housing loan  \\\n",
       "11157   33  blue-collar   single    primary      no        1     yes   no   \n",
       "11158   39     services  married  secondary      no      733      no   no   \n",
       "11159   32   technician   single  secondary      no       29      no   no   \n",
       "11160   43   technician  married  secondary      no        0      no  yes   \n",
       "11161   34   technician  married  secondary      no        0      no   no   \n",
       "\n",
       "        contact  day month  duration  campaign  pdays  previous poutcome  \\\n",
       "11157  cellular   20   apr       257         1     -1         0  unknown   \n",
       "11158   unknown   16   jun        83         4     -1         0  unknown   \n",
       "11159  cellular   19   aug       156         2     -1         0  unknown   \n",
       "11160  cellular    8   may         9         2    172         5  failure   \n",
       "11161  cellular    9   jul       628         1     -1         0  unknown   \n",
       "\n",
       "      deposit  \n",
       "11157      no  \n",
       "11158      no  \n",
       "11159      no  \n",
       "11160      no  \n",
       "11161      no  "
      ]
     },
     "execution_count": 8,
     "metadata": {},
     "output_type": "execute_result"
    }
   ],
   "source": [
    "# Last Five Data from bank dataset\n",
    "bank_org_df.tail()"
   ]
  },
  {
   "cell_type": "code",
   "execution_count": 426,
   "id": "88e88476-308e-4f24-8dd3-cf8ea32679b3",
   "metadata": {},
   "outputs": [],
   "source": [
    "# making sort alias \n",
    "df = bank_org_df"
   ]
  },
  {
   "cell_type": "markdown",
   "id": "54bdb9a1-3f24-460a-a8d6-ed8e6f397042",
   "metadata": {},
   "source": [
    "# Checking the Null values"
   ]
  },
  {
   "cell_type": "code",
   "execution_count": 396,
   "id": "e1e89cf0-4773-446a-b61c-1892bca7fe33",
   "metadata": {},
   "outputs": [
    {
     "name": "stdout",
     "output_type": "stream",
     "text": [
      "The Dataset checks and give the Bollean Value --> False\n"
     ]
    }
   ],
   "source": [
    "# Checking the null values in the bank dataset\n",
    "df_null_check = df.isnull().sum().any()\n",
    "print(f\"The Dataset checks and give the Bollean Value --> {df_null_check}\")"
   ]
  },
  {
   "cell_type": "markdown",
   "id": "2776e33a-38fd-4b35-8984-d1e609e51729",
   "metadata": {},
   "source": [
    "## Checking the Duplicates"
   ]
  },
  {
   "cell_type": "code",
   "execution_count": 397,
   "id": "1b9b5ac7-52fa-4b50-97a4-d559057f7f15",
   "metadata": {},
   "outputs": [
    {
     "name": "stdout",
     "output_type": "stream",
     "text": [
      "The dataset is not containing any duplicates that why it give False\n"
     ]
    }
   ],
   "source": [
    "# Checking the duplicates in the dataset\n",
    "df_duplicates = df.duplicated().any()\n",
    "\n",
    "print(f\"The dataset is not containing any duplicates that why it give {df_duplicates}\")"
   ]
  },
  {
   "cell_type": "markdown",
   "id": "bc48b3b2-cb00-4f54-a78d-d15bb377045b",
   "metadata": {},
   "source": [
    "### Viewing the columns in  the dataset and check the type of each column"
   ]
  },
  {
   "cell_type": "code",
   "execution_count": 398,
   "id": "fc4bdcf8-0840-4207-8d2f-e86ac432f3e5",
   "metadata": {},
   "outputs": [
    {
     "name": "stdout",
     "output_type": "stream",
     "text": [
      "<class 'pandas.core.frame.DataFrame'>\n",
      "RangeIndex: 11162 entries, 0 to 11161\n",
      "Data columns (total 17 columns):\n",
      " #   Column     Non-Null Count  Dtype \n",
      "---  ------     --------------  ----- \n",
      " 0   age        11162 non-null  int64 \n",
      " 1   job        11162 non-null  object\n",
      " 2   marital    11162 non-null  object\n",
      " 3   education  11162 non-null  object\n",
      " 4   default    11162 non-null  object\n",
      " 5   balance    11162 non-null  int64 \n",
      " 6   housing    11162 non-null  object\n",
      " 7   loan       11162 non-null  object\n",
      " 8   contact    11162 non-null  object\n",
      " 9   day        11162 non-null  int64 \n",
      " 10  month      11162 non-null  object\n",
      " 11  duration   11162 non-null  int64 \n",
      " 12  campaign   11162 non-null  int64 \n",
      " 13  pdays      11162 non-null  int64 \n",
      " 14  previous   11162 non-null  int64 \n",
      " 15  poutcome   11162 non-null  object\n",
      " 16  deposit    11162 non-null  object\n",
      "dtypes: int64(7), object(10)\n",
      "memory usage: 1.4+ MB\n",
      "These are the columns\n"
     ]
    }
   ],
   "source": [
    "# getting the information about the features in the dataset and check the datatypes in that features.\n",
    "df_info = df.info()\n",
    "\n",
    "print(f\"These are the columns\")"
   ]
  },
  {
   "cell_type": "markdown",
   "id": "405b4c26-2ab6-4c8a-ab66-4e9450a926d5",
   "metadata": {},
   "source": [
    "### Automation of Columns to Find unique Values for each columns values"
   ]
  },
  {
   "cell_type": "code",
   "execution_count": 401,
   "id": "9a355b60-9957-4c47-9012-64158fd1925a",
   "metadata": {},
   "outputs": [
    {
     "name": "stdout",
     "output_type": "stream",
     "text": [
      "\n",
      "This is the Age column -->\n",
      "[59 56 41 55 54 42 60 37 28 38 30 29 46 31 35 32 49 43 26 40 33 23 48 45\n",
      " 36 52 53 39 57 51 44 24 50 27 34 47 25 58 61 68 75 22 69 66 85 72 90 67\n",
      " 71 21 74 65 62 83 70 76 77 19 73 63 20 78 95 64 79 82 18 86 84 87 92 81\n",
      " 80 93 88 89]\n",
      "\n",
      "This is the Job column -->\n",
      "['admin.' 'technician' 'services' 'management' 'retired' 'blue-collar'\n",
      " 'unemployed' 'entrepreneur' 'housemaid' 'unknown' 'self-employed'\n",
      " 'student']\n",
      "\n",
      "This is the Marital column -->\n",
      "['married' 'single' 'divorced']\n",
      "\n",
      "This is the Education column -->\n",
      "['secondary' 'tertiary' 'primary' 'unknown']\n",
      "\n",
      "This is the Default column -->\n",
      "['no' 'yes']\n",
      "\n",
      "This is the Balance column -->\n",
      "[2343   45 1270 ... 1594 2593 -134]\n",
      "\n",
      "This is the Housing column -->\n",
      "['yes' 'no']\n",
      "\n",
      "This is the Loan column -->\n",
      "['no' 'yes']\n",
      "\n",
      "This is the Contact column -->\n",
      "['unknown' 'cellular' 'telephone']\n",
      "\n",
      "This is the Day column -->\n",
      "[ 5  6  7  8  9 12 13 14 15 16 19 20 21 23 26 27 28 29 30  2  3  4 11 17\n",
      " 18 24  1 10 22 25 31]\n",
      "\n",
      "This is the Month column -->\n",
      "['may' 'jun' 'jul' 'aug' 'oct' 'nov' 'dec' 'jan' 'feb' 'mar' 'apr' 'sep']\n",
      "\n",
      "This is the Duration column -->\n",
      "[1042 1467 1389 ... 1504  818 1812]\n",
      "\n",
      "This is the Campaign column -->\n",
      "[ 1  2  3  4  6  5  8 11  9 10 15 12 14  7 24 13 17 29 21 20 16 32 19 25\n",
      " 22 43 18 41 63 27 30 26 23 28 33 31]\n",
      "\n",
      "This is the Pdays column -->\n",
      "[ -1 166  91 147 170 150 171 126 182 110 198 174 175  27 128 100 177 167\n",
      " 122 183 195 133 178  34  10 163 184 154  99  93   2 242 272  76 160  90\n",
      " 196 246 238 203 268 189 267  92   9  88  85 210 257 261 270 106 199 112\n",
      "  41 294 231 239 302 135 307 222 138 323 141 320 264 316 315 256 146 328\n",
      "  74 148 327 341 145 266 234 345 318 325 274 343 260 305 344 254 180 340\n",
      "  82 181 278 153   4 349 334 176  87 269  86 169  83  79   6 259  13 161\n",
      " 350  84  80 164  22 296  66 263 333  17  89  78 286 337 364 188 342 363\n",
      " 352 295 353 356 288 367 366 359 347 370 284 300 306 361 287 301 355 371\n",
      " 292 360 358 346 357 368 312 179 329 298 372 374 375 291  95 109  94  98\n",
      " 186 101 187 321  40  96  21  35  97 285 103 212 293  81  38  28  67  60\n",
      " 120  55 113  71 119  72  20 391  50 207 105 314 211 140 104  65 395 399\n",
      "  49 389 386 412  62 229 385 156  63  64  69 394  70 185 102 190 461 116\n",
      " 422 457 430 192 462 403 191 459 397 197 173 271 428 392 193 474 475 477\n",
      " 130 283 157 476 131 132 129 134 114 121 107 115  58  57 143 208 335 149\n",
      " 139  52  75 515 111  56 194 520 213 351 273 162 378 279 200 201 310 275\n",
      " 127 165 309 313 216 209 282 202 436 433 142 172 281  48 276 297 280 446\n",
      " 558 616 561 553 555 262 265 384 388 152 390 322 205 326 478 339 155 421\n",
      " 223 626 426 236 206 348 595 311 648 304 521 369 449 398  53 258 479 237\n",
      " 425 376 224 227 225 144 586 450 424 776 251 460 683 158 529 377 415 244\n",
      " 407 458 532 481 445 535 784 491 440 455 277 470   1 435 437 728 414 518\n",
      " 308 828  31  43 761  29  44 579 466 125 504 427 749 365 769 469 587 792\n",
      " 854 842 603 444 232 690 137 442 541 550  73 439 420 168 243 387 204 503\n",
      " 124 290  77  14 221 409 782 332 330 804 551 230 405 319  37 123 417 490\n",
      " 463 362 805 544 472  33 495 253  36 299 324 235 401 117  68 774 228 317\n",
      " 255 336 233 486   5 778 771 245  42 338 354 373 772  59 247 331  61 381\n",
      " 108  15   8 241 136 159 250 217  12 826 594 303 151 404 717 289 252 651\n",
      " 214  24 701 118]\n",
      "\n",
      "This is the Previous column -->\n",
      "[ 0  1  4  2  3 10  7  9  5 29  6 13 17  8 11 30 22 58 21 14 26 12 19 55\n",
      " 23 15 20 27 16 41 40 28 18 37]\n",
      "\n",
      "This is the Poutcome column -->\n",
      "['unknown' 'other' 'failure' 'success']\n",
      "\n",
      "This is the Deposit column -->\n",
      "['yes' 'no']\n"
     ]
    }
   ],
   "source": [
    "# Getting the unique values of each features in the dataset.\n",
    "for i in df:\n",
    "    if i == 'age':\n",
    "        print()\n",
    "        print(\"This is the Age column -->\")\n",
    "        print(df[i].unique())\n",
    "        \n",
    "    if i == 'job':\n",
    "        print()\n",
    "        print(\"This is the Job column -->\")\n",
    "        print(df[i].unique())\n",
    "        \n",
    "    if i == 'marital':\n",
    "        print()\n",
    "        print(\"This is the Marital column -->\")\n",
    "        print(df[i].unique())\n",
    "\n",
    "\n",
    "\n",
    "    \n",
    "    if i == 'education':\n",
    "        print()\n",
    "        print(\"This is the Education column -->\")\n",
    "        print(df[i].unique())\n",
    "        \n",
    "    if i == 'default':\n",
    "        print()\n",
    "        print(\"This is the Default column -->\")\n",
    "        print(df[i].unique())\n",
    "        \n",
    "    if i == 'balance':\n",
    "        print()\n",
    "        print(\"This is the Balance column -->\")\n",
    "        print(df[i].unique())\n",
    "        \n",
    "    if i == 'housing':\n",
    "        print()\n",
    "        print(\"This is the Housing column -->\")\n",
    "        print(df[i].unique())\n",
    "        \n",
    "    if i == 'loan':\n",
    "        print()\n",
    "        print(\"This is the Loan column -->\")\n",
    "        print(df[i].unique())\n",
    "        \n",
    "    if i == 'contact':\n",
    "        print()\n",
    "        print(\"This is the Contact column -->\")\n",
    "        print(df[i].unique())\n",
    "        \n",
    "    if i == 'day':\n",
    "        print()\n",
    "        print(\"This is the Day column -->\")\n",
    "        print(df[i].unique())\n",
    "        \n",
    "    if i == 'month':\n",
    "        print()\n",
    "        print(\"This is the Month column -->\")\n",
    "        print(df[i].unique())\n",
    "        \n",
    "    if i == 'duration':\n",
    "        print()\n",
    "        print(\"This is the Duration column -->\")\n",
    "        print(df[i].unique())\n",
    "        \n",
    "    if i == 'campaign':\n",
    "        print()\n",
    "        print(\"This is the Campaign column -->\")\n",
    "        print(df[i].unique())\n",
    "        \n",
    "    if i == 'pdays':\n",
    "        print()\n",
    "        print(\"This is the Pdays column -->\")\n",
    "        print(df[i].unique())\n",
    "        \n",
    "    if i == 'previous':\n",
    "        print()\n",
    "        print(\"This is the Previous column -->\")\n",
    "        print(df[i].unique())\n",
    "        \n",
    "    if i == 'poutcome':\n",
    "        print()\n",
    "        print(\"This is the Poutcome column -->\")\n",
    "        print(df[i].unique())\n",
    "        \n",
    "    if i == 'deposit':\n",
    "        print()\n",
    "        print(\"This is the Deposit column -->\")\n",
    "        print(df[i].unique())"
   ]
  },
  {
   "cell_type": "markdown",
   "id": "f2ec2b9b-85ee-4ebd-a3ed-f1a4d7909fcc",
   "metadata": {},
   "source": [
    "## Questions:"
   ]
  },
  {
   "cell_type": "markdown",
   "id": "9d21714b-6764-47b9-b94c-dd74a2f56a53",
   "metadata": {},
   "source": [
    "\n",
    "Question 1 :Age Distribution: What is the age distribution of the customers?\n",
    "\n",
    "Question 2 :Job Types: What are the most common job types among customers?\n",
    "\n",
    "Question 3 :Marital Status: What is the distribution of marital status among customers?\n",
    "\n",
    "Question 4 :Education Levels: What are the education levels of the customers?\n",
    "\n",
    "Question 5 : Account Balance: What is the average account balance?\n",
    "\n",
    "Question 6 : Default Analysis: What percentage of customers have defaulted on their loans?\n",
    "\n",
    "Question 7 :Housing Loan Analysis: How many customers have housing loans?\n",
    "\n",
    "Question 8 : Personal Loan Analysis: How many customers have personal loans?\n",
    "\n",
    "Question 9 : Contact Method: What are the most common methods of contact (phone, email, etc.)?\n",
    "\n",
    "Question 10 : Campaign Effectiveness: How many contacts were made during each campaign?\n",
    "\n",
    "Question 11 :Campaign Success Rate: What is the success rate of each campaign in terms of deposits made?\n",
    "\n",
    "Question 12 : What is the average account balance for each month?\n",
    "\n",
    "Question 13 : What is the total account balance for customers in each job category?\n",
    "\n",
    "Question 14 : For each marital status category, how many customers have taken a loan?\n"
   ]
  },
  {
   "cell_type": "markdown",
   "id": "3189fc6a-4908-4881-a133-ad7a8e4dc995",
   "metadata": {},
   "source": [
    "### Question 1 :Age Distribution: What is the age distribution of the customers?"
   ]
  },
  {
   "cell_type": "code",
   "execution_count": 402,
   "id": "8ccc0824-f398-4ca2-b9f5-45b952a07843",
   "metadata": {},
   "outputs": [
    {
     "data": {
      "image/png": "[encoded data removed]",
      "text/plain": [
       "<Figure size 700x400 with 1 Axes>"
      ]
     },
     "metadata": {},
     "output_type": "display_data"
    }
   ],
   "source": [
    "# Getting the idea of Age distribution in Customers.\n",
    "plt.figure(figsize = (7,4))\n",
    "df['age'].hist(color = 'green')\n",
    "plt.title('Age Distribution of the Customers')\n",
    "plt.xlabel('Age')\n",
    "plt.ylabel('Frequency')\n",
    "plt.legend(df['age'])\n",
    "plt.show()"
   ]
  },
  {
   "cell_type": "markdown",
   "id": "ee5704cf-d7d0-4b67-b479-c4570a0ae380",
   "metadata": {},
   "source": [
    "### Question 2 :Job Types: What are the most common job types among customers?"
   ]
  },
  {
   "cell_type": "code",
   "execution_count": 176,
   "id": "0538d500-5eaf-4ca1-9e4d-36c5ed3d636c",
   "metadata": {},
   "outputs": [
    {
     "name": "stdout",
     "output_type": "stream",
     "text": [
      "Top 3 most common job types job\n",
      "management     2566\n",
      "blue-collar    1944\n",
      "technician     1823\n",
      "Name: count, dtype: int64\n"
     ]
    },
    {
     "data": {
      "image/png": "[encoded data removed]",
      "text/plain": [
       "<Figure size 400x500 with 1 Axes>"
      ]
     },
     "metadata": {},
     "output_type": "display_data"
    }
   ],
   "source": [
    "# Top 3 most common job Types among customers\n",
    "job_counts = df['job'].value_counts().head(3)\n",
    "\n",
    "print(f\"Top 3 most common job types {job_counts}\")\n",
    "\n",
    "plt.figure(figsize = (4,5))\n",
    "sns.barplot(job_counts , color = 'black')\n",
    "plt.title('Top 3 most common job types among customers')\n",
    "plt.xlabel('Jobs')\n",
    "plt.ylabel('Freqency')\n",
    "plt.legend(job_counts)\n",
    "plt.show()"
   ]
  },
  {
   "cell_type": "markdown",
   "id": "07014a6d-c7e7-4e0c-aa1e-92711b85a9ca",
   "metadata": {},
   "source": [
    "### Question 3 :Marital Status: What is the distribution of marital status among customers?"
   ]
  },
  {
   "cell_type": "code",
   "execution_count": 418,
   "id": "2fe7d047-2e4e-4fe2-994c-68116ef96b2e",
   "metadata": {},
   "outputs": [
    {
     "name": "stdout",
     "output_type": "stream",
     "text": [
      "Distribution of marital status marital\n",
      "married     6351\n",
      "single      3518\n",
      "divorced    1293\n",
      "Name: count, dtype: int64 \n"
     ]
    },
    {
     "data": {
      "image/png": "[encoded data removed]",
      "text/plain": [
       "<Figure size 700x500 with 1 Axes>"
      ]
     },
     "metadata": {},
     "output_type": "display_data"
    }
   ],
   "source": [
    "# Getting the idea of Marital status among customers\n",
    "df_marital = df['marital'].value_counts()\n",
    "print(f\"Distribution of marital status {df_marital} \")\n",
    "\n",
    "plt.figure(figsize = (7,5))\n",
    "sns.barplot(df_marital , color = 'green')\n",
    "plt.title('Distribution of marital status among customers')\n",
    "plt.xlabel('Status')\n",
    "plt.ylabel('Frequency')\n",
    "plt.legend(df_marital)\n",
    "plt.show()"
   ]
  },
  {
   "cell_type": "markdown",
   "id": "99fbd73c-b3c1-4d0d-951f-5988dcd9bd31",
   "metadata": {},
   "source": [
    "### Question 4 :Education Levels: What are the education levels of the customers?"
   ]
  },
  {
   "cell_type": "code",
   "execution_count": 404,
   "id": "e9a4fce4-cdcd-421f-b5ad-b5d3e25447d0",
   "metadata": {},
   "outputs": [
    {
     "name": "stdout",
     "output_type": "stream",
     "text": [
      "Education levels of the customers education\n",
      "secondary    5476\n",
      "tertiary     3689\n",
      "primary      1500\n",
      "unknown       497\n",
      "Name: count, dtype: int64\n"
     ]
    }
   ],
   "source": [
    "# Getting an idea About Customers have Educational Levels.\n",
    "df_education = df['education'].value_counts()\n",
    "print(f\"Education levels of the customers {df_education}\")"
   ]
  },
  {
   "cell_type": "code",
   "execution_count": 405,
   "id": "e196d56c-8af4-4c60-b322-91ab3307a2ea",
   "metadata": {},
   "outputs": [
    {
     "data": {
      "image/png": "[encoded data removed]",
      "text/plain": [
       "<Figure size 640x480 with 1 Axes>"
      ]
     },
     "metadata": {},
     "output_type": "display_data"
    }
   ],
   "source": [
    "# Make a Diagram to show the Educational Levels of the customers\n",
    "sns.barplot(df_education , color = 'pink')\n",
    "plt.title('Education levels of the customers')\n",
    "plt.xlabel('Education')\n",
    "plt.ylabel('Frequency')\n",
    "plt.legend(df_education)\n",
    "plt.show()"
   ]
  },
  {
   "cell_type": "markdown",
   "id": "03bebb3f-d94a-4485-93ea-63613ea0f40a",
   "metadata": {},
   "source": [
    "### Question 5 : Account Balance: What is the average account balance?"
   ]
  },
  {
   "cell_type": "code",
   "execution_count": 406,
   "id": "6b1ca7fb-2845-4ae6-9bbe-464c1ac95c28",
   "metadata": {},
   "outputs": [
    {
     "name": "stdout",
     "output_type": "stream",
     "text": [
      "Average Account Balance of the Customers is: 1528.54\n"
     ]
    }
   ],
   "source": [
    "# Calculate the Average Account Balance\n",
    "avg_account_balance= df['balance'].mean().round(2)\n",
    "\n",
    "print(f\"Average Account Balance of the Customers is: {avg_account_balance}\")"
   ]
  },
  {
   "cell_type": "markdown",
   "id": "27d1b553-30ae-4d43-994d-56717b597506",
   "metadata": {},
   "source": [
    "### Question 6 : Default Analysis: What percentage of customers have defaulted on their loans?"
   ]
  },
  {
   "cell_type": "code",
   "execution_count": 408,
   "id": "df660f95-73cd-44f2-8bae-ce0acd318ec7",
   "metadata": {},
   "outputs": [
    {
     "name": "stdout",
     "output_type": "stream",
     "text": [
      "Total count of 'Yes' Customers are :1460\n"
     ]
    }
   ],
   "source": [
    "#Total Number of \"Yes\" on loan by customers.\n",
    "df_Yes = df[df['loan'] == 'yes']\n",
    "Yes = df_Yes['loan'].count()\n",
    "print(f\"Total count of 'Yes' Customers are :{Yes}\")"
   ]
  },
  {
   "cell_type": "code",
   "execution_count": 409,
   "id": "37f693b2-e33c-4634-9da1-dc9dc701e9fc",
   "metadata": {},
   "outputs": [
    {
     "name": "stdout",
     "output_type": "stream",
     "text": [
      "Total count of 'No' Customers are :9702\n"
     ]
    }
   ],
   "source": [
    "#Total Number of \"No\" on loan by customers.\n",
    "df_No = df[df['loan'] == 'no']\n",
    "No = df_No['loan'].count()\n",
    "print(f\"Total count of 'No' Customers are :{No}\")"
   ]
  },
  {
   "cell_type": "code",
   "execution_count": 407,
   "id": "7bf0e1a8-3714-42b7-ae81-8deda49af742",
   "metadata": {},
   "outputs": [
    {
     "name": "stdout",
     "output_type": "stream",
     "text": [
      "Total count of Customers are :11162\n"
     ]
    }
   ],
   "source": [
    "#Total Number of loan by customers.\n",
    "Total_customers = (Yes + No) \n",
    "\n",
    "print(f\"Total count of Customers are :{Total_customers}\")"
   ]
  },
  {
   "cell_type": "code",
   "execution_count": 410,
   "id": "6a3ec827-ef25-484d-b68b-1c342a957fd1",
   "metadata": {},
   "outputs": [
    {
     "name": "stdout",
     "output_type": "stream",
     "text": [
      "The Percentage of customers have defaulted on their loans are 13.08 %\n"
     ]
    }
   ],
   "source": [
    "# Calculate the percentage of Customers by their loans.\n",
    "Percentage_of_customers = ((Yes/ Total_customers) *100).round(2)\n",
    "\n",
    "print(f\"The Percentage of customers have defaulted on their loans are {Percentage_of_customers} %\")"
   ]
  },
  {
   "cell_type": "markdown",
   "id": "6937aa87-d0b4-4054-b576-d6e5a279e4f7",
   "metadata": {},
   "source": [
    "### Question 7 :Housing Loan Analysis: How many customers have housing loans?"
   ]
  },
  {
   "cell_type": "code",
   "execution_count": 411,
   "id": "40af09da-052f-4d30-b40e-8f1017683ac1",
   "metadata": {},
   "outputs": [
    {
     "name": "stdout",
     "output_type": "stream",
     "text": [
      "Total number of customers have Housing loan  are : 5281\n"
     ]
    }
   ],
   "source": [
    "# Calculate the Customers have housing loans.\n",
    "housing_loan = df[df['housing'] == 'yes']\n",
    "loan_on_house = housing_loan['housing'].count()\n",
    "\n",
    "print(f\"Total number of customers have Housing loan  are : {loan_on_house}\")"
   ]
  },
  {
   "cell_type": "markdown",
   "id": "9433e099-6cdf-4742-8965-b3e58a4b788e",
   "metadata": {},
   "source": [
    "### Question 8 : Personal Loan Analysis: How many customers have personal loans?"
   ]
  },
  {
   "cell_type": "code",
   "execution_count": 419,
   "id": "0218dd56-4783-4b44-b723-12d9500b32bb",
   "metadata": {},
   "outputs": [
    {
     "name": "stdout",
     "output_type": "stream",
     "text": [
      "Customers have Personal Loans are: 1460\n"
     ]
    }
   ],
   "source": [
    "# Total number of Customers have personal loans.\n",
    "yes_loan = df[df['loan'] == 'yes']\n",
    "personal_loan = yes_loan['loan'].shape[0]\n",
    "\n",
    "print(f\"Customers have Personal Loans are: {personal_loan}\")"
   ]
  },
  {
   "cell_type": "markdown",
   "id": "4bcf72a6-be07-4d9e-812e-48347634e6d7",
   "metadata": {},
   "source": [
    "### Question 9 : Contact Method: What are the most common methods of contact (phone, email, etc.)?"
   ]
  },
  {
   "cell_type": "code",
   "execution_count": 420,
   "id": "654d40f5-5b86-4f39-94ca-5c5e6cff5237",
   "metadata": {},
   "outputs": [
    {
     "name": "stdout",
     "output_type": "stream",
     "text": [
      "Most common contact\n",
      "cellular     8042\n",
      "unknown      2346\n",
      "telephone     774\n",
      "Name: count, dtype: int64\n"
     ]
    }
   ],
   "source": [
    "# Getting the most common methods of Contact.\n",
    "most_common_contacts = df['contact'].value_counts()\n",
    "\n",
    "print(f\"Most common {most_common_contacts}\")"
   ]
  },
  {
   "cell_type": "markdown",
   "id": "6a3b8f13-71cf-442e-bbca-3b778225f729",
   "metadata": {},
   "source": [
    "### Question 10 : Campaign Effectiveness: How many contacts were made during each campaign?"
   ]
  },
  {
   "cell_type": "code",
   "execution_count": 421,
   "id": "c54a1ea7-56e6-4e48-b4c7-fbfd9f22c2f7",
   "metadata": {},
   "outputs": [
    {
     "name": "stdout",
     "output_type": "stream",
     "text": [
      "Counts of Contacts during each campaign\n",
      "contact\n",
      "cellular     8042\n",
      "telephone     774\n",
      "unknown      2346\n",
      "dtype: int64\n"
     ]
    }
   ],
   "source": [
    "# Getting the contacts for each campaign.\n",
    "grouped_contacts = df.groupby('contact').size()\n",
    "\n",
    "print(\"Counts of Contacts during each campaign\")\n",
    "print(grouped_contacts)"
   ]
  },
  {
   "cell_type": "markdown",
   "id": "eb75509f-88ba-44bd-95d0-6e53292bdb24",
   "metadata": {},
   "source": [
    "### Question 11 :Campaign Success Rate: What is the success rate of each campaign in terms of deposits made?"
   ]
  },
  {
   "cell_type": "code",
   "execution_count": 335,
   "id": "8235114c-4b3a-4ea7-bf30-ff1d01cab698",
   "metadata": {},
   "outputs": [
    {
     "data": {
      "text/plain": [
       "False    47\n",
       "True     11\n",
       "Name: count, dtype: int64"
      ]
     },
     "execution_count": 335,
     "metadata": {},
     "output_type": "execute_result"
    }
   ],
   "source": [
    "# a = df.groupby(['deposit','campaign']).size()\n",
    "# c = (a > 100)\n",
    "# d = c.value_counts()"
   ]
  },
  {
   "cell_type": "markdown",
   "id": "37d69a22-c517-4263-8435-d37c88e271fd",
   "metadata": {},
   "source": [
    "### Question 12 : What is the average account balance for each month?"
   ]
  },
  {
   "cell_type": "code",
   "execution_count": 422,
   "id": "dd7339d8-7c5e-4aca-bbe2-3f652f94a495",
   "metadata": {},
   "outputs": [
    {
     "name": "stdout",
     "output_type": "stream",
     "text": [
      "Average account balance for each month\n",
      "dec    2735.209\n",
      "nov    2349.910\n",
      "mar    2118.605\n",
      "oct    2037.582\n",
      "sep    1930.614\n",
      "apr    1734.264\n",
      "jun    1601.206\n",
      "aug    1580.873\n",
      "feb    1568.166\n",
      "may    1192.358\n",
      "jan    1151.093\n",
      "jul    1061.122\n",
      "Name: balance, dtype: float64\n"
     ]
    }
   ],
   "source": [
    "# Average account balance for each months.\n",
    "grouped_each_months = df.groupby(['month'] , sort = False).mean('balance').round(3)\n",
    "sorted_from_max_to_min = grouped_each_months['balance'].sort_values(ascending = False)\n",
    "print(f\"Average account balance for each {sorted_from_max_to_min}\")"
   ]
  },
  {
   "cell_type": "markdown",
   "id": "439bc85a-aa15-4377-9557-30782b8d27dd",
   "metadata": {},
   "source": [
    "### Question 13 : What is the total account balance for customers in each job category?"
   ]
  },
  {
   "cell_type": "code",
   "execution_count": 423,
   "id": "b34720d5-4210-49b7-8eff-b8cca0dc7b09",
   "metadata": {},
   "outputs": [
    {
     "name": "stdout",
     "output_type": "stream",
     "text": [
      "Total account balance for customers in each job category\n",
      "job\n",
      "management       4602541\n",
      "technician       2837125\n",
      "blue-collar      2340433\n",
      "retired          1880621\n",
      "admin.           1595286\n",
      "services          997921\n",
      "self-employed     755476\n",
      "student           540282\n",
      "entrepreneur      531997\n",
      "unemployed        469355\n",
      "housemaid         374328\n",
      "unknown           136182\n",
      "Name: balance, dtype: int64\n"
     ]
    }
   ],
   "source": [
    "# Total account balance for customers in each job category.\n",
    "grouped_job = df.groupby('job' , sort = True).sum('balance')\n",
    "\n",
    "sorted_grouped_job = grouped_job['balance'].sort_values(ascending = False)\n",
    "\n",
    "print('Total account balance for customers in each job category')\n",
    "print(sorted_grouped_job)"
   ]
  },
  {
   "cell_type": "code",
   "execution_count": 424,
   "id": "20723234-ad8c-4953-b360-434976614b40",
   "metadata": {},
   "outputs": [
    {
     "name": "stdout",
     "output_type": "stream",
     "text": [
      "Top 3 job category have maximum account balance in total\n",
      "job\n",
      "management     4602541\n",
      "technician     2837125\n",
      "blue-collar    2340433\n",
      "Name: balance, dtype: int64\n"
     ]
    }
   ],
   "source": [
    "# Getting Top 3 job category\n",
    "print('Top 3 job category have maximum account balance in total')\n",
    "print(sorted_grouped_job.head(3))"
   ]
  },
  {
   "cell_type": "markdown",
   "id": "1ae369ac-1938-43f4-a3f4-0f911fba4cf4",
   "metadata": {},
   "source": [
    "### Question 14 : For each marital status category, how many customers have taken a loan?"
   ]
  },
  {
   "cell_type": "code",
   "execution_count": 425,
   "id": "918f6df8-b7d2-47a9-b205-faecb3c705e4",
   "metadata": {},
   "outputs": [
    {
     "data": {
      "text/plain": [
       "marital\n",
       "married     6351\n",
       "single      3518\n",
       "divorced    1293\n",
       "Name: loan, dtype: int64"
      ]
     },
     "execution_count": 425,
     "metadata": {},
     "output_type": "execute_result"
    }
   ],
   "source": [
    "# For each marital status category total number of customers have taken a loan.\n",
    "grouped_category = df.groupby('marital' , sort = False).count()\n",
    "\n",
    "grouped_category['loan']"
   ]
  },
  {
   "cell_type": "code",
   "execution_count": null,
   "id": "d02036d3-0ed0-41ef-868f-ee7e6b960e6e",
   "metadata": {},
   "outputs": [],
   "source": []
  },
  {
   "cell_type": "code",
   "execution_count": null,
   "id": "3dc66474-8f38-4fc4-b776-d39c894dd3fe",
   "metadata": {},
   "outputs": [],
   "source": []
  }
 ],
 "metadata": {
  "kernelspec": {
   "display_name": "Python 3 (ipykernel)",
   "language": "python",
   "name": "python3"
  },
  "language_info": {
   "codemirror_mode": {
    "name": "ipython",
    "version": 3
   },
   "file_extension": ".py",
   "mimetype": "text/x-python",
   "name": "python",
   "nbconvert_exporter": "python",
   "pygments_lexer": "ipython3",
   "version": "3.12.4"
  }
 },
 "nbformat": 4,
 "nbformat_minor": 5
}
